{
 "cells": [
  {
   "cell_type": "code",
   "execution_count": 1,
   "metadata": {},
   "outputs": [
    {
     "ename": "SyntaxError",
     "evalue": "invalid syntax (3267306874.py, line 2)",
     "output_type": "error",
     "traceback": [
      "\u001b[1;36m  Cell \u001b[1;32mIn[1], line 2\u001b[1;36m\u001b[0m\n\u001b[1;33m    pip install pyodbc\u001b[0m\n\u001b[1;37m        ^\u001b[0m\n\u001b[1;31mSyntaxError\u001b[0m\u001b[1;31m:\u001b[0m invalid syntax\n"
     ]
    }
   ],
   "source": [
    "# Instalar biblioteca para integração do Python com banco de dados SQL\n",
    "pip install pyodbc"
   ]
  },
  {
   "cell_type": "code",
   "execution_count": 10,
   "metadata": {},
   "outputs": [
    {
     "name": "stdout",
     "output_type": "stream",
     "text": [
      "Conexão Bem Sucedida!\n"
     ]
    }
   ],
   "source": [
    "# Importar biblioteca pyodbc\n",
    "import pyodbc\n",
    "\n",
    "dados_conexao = (\n",
    "    'Driver={SQL Server};'\n",
    "    'Server=LAPTOP-0HR0CQ8T;'\n",
    "    'Database=PythonSQL;'\n",
    ")\n",
    "\n",
    "conexao = pyodbc.connect(dados_conexao)\n",
    "print('Conexão Bem Sucedida!')"
   ]
  },
  {
   "cell_type": "code",
   "execution_count": 12,
   "metadata": {},
   "outputs": [],
   "source": [
    "cursor = conexao.cursor()\n",
    "\n",
    "id = 5\n",
    "data = '23/07/2022'\n",
    "cliente = 'Elias'\n",
    "produto = 'Celular'\n",
    "preco = 4500\n",
    "quantidade = 1\n",
    "\n",
    "# comando = \"\"\"insert into Vendas(id_venda, data_venda, cliente, produto, preco, quantidade) values\n",
    "# \t(2, 'Bruno', '17/05/2022', 'Notebook', 3500, 2)\"\"\"\n",
    "\n",
    "comando = f\"\"\"insert into Vendas(id_venda, data_venda, cliente, produto, preco, quantidade) values\n",
    "\t({id}, '{data}', '{cliente}', '{produto}', {preco}, {quantidade})\"\"\"\n",
    "\n",
    "cursor.execute(comando)\n",
    "\n",
    "cursor.commit()"
   ]
  }
 ],
 "metadata": {
  "kernelspec": {
   "display_name": "Python 3",
   "language": "python",
   "name": "python3"
  },
  "language_info": {
   "codemirror_mode": {
    "name": "ipython",
    "version": 3
   },
   "file_extension": ".py",
   "mimetype": "text/x-python",
   "name": "python",
   "nbconvert_exporter": "python",
   "pygments_lexer": "ipython3",
   "version": "3.11.4"
  }
 },
 "nbformat": 4,
 "nbformat_minor": 2
}
